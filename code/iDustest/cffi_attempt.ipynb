{
 "cells": [
  {
   "cell_type": "code",
   "execution_count": 1,
   "metadata": {
    "collapsed": true
   },
   "outputs": [],
   "source": [
    "import cffi\n",
    "ffi = cffi.FFI()"
   ]
  },
  {
   "cell_type": "code",
   "execution_count": 2,
   "metadata": {
    "collapsed": true
   },
   "outputs": [],
   "source": [
    "ffi.cdef(\"\"\"\n",
    "    typedef struct ANDORCAPS\n",
    "    {\n",
    "      ULONG ulSize;\n",
    "        ULONG ulAcqModes;\n",
    "        ULONG ulReadModes;\n",
    "        ULONG ulTriggerModes;\n",
    "        ULONG ulCameraType;\n",
    "        ULONG ulPixelMode;\n",
    "        ULONG ulSetFunctions;\n",
    "        ULONG ulGetFunctions;\n",
    "        ULONG ulFeatures;\n",
    "        ULONG ulPCICard;\n",
    "        ULONG ulEMGainCapability;\n",
    "        ULONG ulFTReadModes;\n",
    "    } AndorCapabilities;\n",
    "\"\"\")"
   ]
  },
  {
   "cell_type": "code",
   "execution_count": 6,
   "metadata": {
    "collapsed": false
   },
   "outputs": [],
   "source": [
    "lib = ffi.dlopen?"
   ]
  },
  {
   "cell_type": "code",
   "execution_count": null,
   "metadata": {
    "collapsed": true
   },
   "outputs": [],
   "source": [
    "lib = ffi.dlopen"
   ]
  },
  {
   "cell_type": "code",
   "execution_count": 7,
   "metadata": {
    "collapsed": true
   },
   "outputs": [
    {
     "ename": "AttributeError",
     "evalue": "Initialize",
     "output_type": "error",
     "traceback": [
      "\u001b[1;31m---------------------------------------------------------------------------\u001b[0m",
      "\u001b[1;31mAttributeError\u001b[0m                            Traceback (most recent call last)",
      "\u001b[1;32m<ipython-input-7-9807baae9ba7>\u001b[0m in \u001b[0;36m<module>\u001b[1;34m()\u001b[0m\n\u001b[1;32m----> 1\u001b[1;33m \u001b[0mlib\u001b[0m\u001b[1;33m.\u001b[0m\u001b[0mInitialize\u001b[0m\u001b[1;33m\u001b[0m\u001b[0m\n\u001b[0m",
      "\u001b[1;32mC:\\Anaconda\\lib\\site-packages\\cffi\\api.pyc\u001b[0m in \u001b[0;36m__getattr__\u001b[1;34m(self, name)\u001b[0m\n\u001b[0;32m    627\u001b[0m     \u001b[1;32mclass\u001b[0m \u001b[0mFFILibrary\u001b[0m\u001b[1;33m(\u001b[0m\u001b[0mobject\u001b[0m\u001b[1;33m)\u001b[0m\u001b[1;33m:\u001b[0m\u001b[1;33m\u001b[0m\u001b[0m\n\u001b[0;32m    628\u001b[0m         \u001b[1;32mdef\u001b[0m \u001b[0m__getattr__\u001b[0m\u001b[1;33m(\u001b[0m\u001b[0mself\u001b[0m\u001b[1;33m,\u001b[0m \u001b[0mname\u001b[0m\u001b[1;33m)\u001b[0m\u001b[1;33m:\u001b[0m\u001b[1;33m\u001b[0m\u001b[0m\n\u001b[1;32m--> 629\u001b[1;33m             \u001b[0mmake_accessor\u001b[0m\u001b[1;33m(\u001b[0m\u001b[0mname\u001b[0m\u001b[1;33m)\u001b[0m\u001b[1;33m\u001b[0m\u001b[0m\n\u001b[0m\u001b[0;32m    630\u001b[0m             \u001b[1;32mreturn\u001b[0m \u001b[0mgetattr\u001b[0m\u001b[1;33m(\u001b[0m\u001b[0mself\u001b[0m\u001b[1;33m,\u001b[0m \u001b[0mname\u001b[0m\u001b[1;33m)\u001b[0m\u001b[1;33m\u001b[0m\u001b[0m\n\u001b[0;32m    631\u001b[0m         \u001b[1;32mdef\u001b[0m \u001b[0m__setattr__\u001b[0m\u001b[1;33m(\u001b[0m\u001b[0mself\u001b[0m\u001b[1;33m,\u001b[0m \u001b[0mname\u001b[0m\u001b[1;33m,\u001b[0m \u001b[0mvalue\u001b[0m\u001b[1;33m)\u001b[0m\u001b[1;33m:\u001b[0m\u001b[1;33m\u001b[0m\u001b[0m\n",
      "\u001b[1;32mC:\\Anaconda\\lib\\site-packages\\cffi\\api.pyc\u001b[0m in \u001b[0;36mmake_accessor\u001b[1;34m(name)\u001b[0m\n\u001b[0;32m    623\u001b[0m             \u001b[1;32mif\u001b[0m \u001b[0mname\u001b[0m \u001b[1;32min\u001b[0m \u001b[0mlibrary\u001b[0m\u001b[1;33m.\u001b[0m\u001b[0m__dict__\u001b[0m \u001b[1;32mor\u001b[0m \u001b[0mname\u001b[0m \u001b[1;32min\u001b[0m \u001b[0mFFILibrary\u001b[0m\u001b[1;33m.\u001b[0m\u001b[0m__dict__\u001b[0m\u001b[1;33m:\u001b[0m\u001b[1;33m\u001b[0m\u001b[0m\n\u001b[0;32m    624\u001b[0m                 \u001b[1;32mreturn\u001b[0m    \u001b[1;31m# added by another thread while waiting for the lock\u001b[0m\u001b[1;33m\u001b[0m\u001b[0m\n\u001b[1;32m--> 625\u001b[1;33m             \u001b[0mmake_accessor_locked\u001b[0m\u001b[1;33m(\u001b[0m\u001b[0mname\u001b[0m\u001b[1;33m)\u001b[0m\u001b[1;33m\u001b[0m\u001b[0m\n\u001b[0m\u001b[0;32m    626\u001b[0m     \u001b[1;31m#\u001b[0m\u001b[1;33m\u001b[0m\u001b[1;33m\u001b[0m\u001b[0m\n\u001b[0;32m    627\u001b[0m     \u001b[1;32mclass\u001b[0m \u001b[0mFFILibrary\u001b[0m\u001b[1;33m(\u001b[0m\u001b[0mobject\u001b[0m\u001b[1;33m)\u001b[0m\u001b[1;33m:\u001b[0m\u001b[1;33m\u001b[0m\u001b[0m\n",
      "\u001b[1;32mC:\\Anaconda\\lib\\site-packages\\cffi\\api.pyc\u001b[0m in \u001b[0;36mmake_accessor_locked\u001b[1;34m(name)\u001b[0m\n\u001b[0;32m    617\u001b[0m                                       \"after dlopen()\")\n\u001b[0;32m    618\u001b[0m         \u001b[1;31m#\u001b[0m\u001b[1;33m\u001b[0m\u001b[1;33m\u001b[0m\u001b[0m\n\u001b[1;32m--> 619\u001b[1;33m         \u001b[1;32mraise\u001b[0m \u001b[0mAttributeError\u001b[0m\u001b[1;33m(\u001b[0m\u001b[0mname\u001b[0m\u001b[1;33m)\u001b[0m\u001b[1;33m\u001b[0m\u001b[0m\n\u001b[0m\u001b[0;32m    620\u001b[0m     \u001b[1;31m#\u001b[0m\u001b[1;33m\u001b[0m\u001b[1;33m\u001b[0m\u001b[0m\n\u001b[0;32m    621\u001b[0m     \u001b[1;32mdef\u001b[0m \u001b[0mmake_accessor\u001b[0m\u001b[1;33m(\u001b[0m\u001b[0mname\u001b[0m\u001b[1;33m)\u001b[0m\u001b[1;33m:\u001b[0m\u001b[1;33m\u001b[0m\u001b[0m\n",
      "\u001b[1;31mAttributeError\u001b[0m: Initialize"
     ]
    }
   ],
   "source": [
    "lib.Initialize"
   ]
  },
  {
   "cell_type": "markdown",
   "metadata": {},
   "source": [
    "# ----------------------------------------------"
   ]
  },
  {
   "cell_type": "code",
   "execution_count": 8,
   "metadata": {
    "collapsed": true
   },
   "outputs": [],
   "source": [
    "del cffi, ffi, lib"
   ]
  },
  {
   "cell_type": "code",
   "execution_count": 1,
   "metadata": {
    "collapsed": true
   },
   "outputs": [],
   "source": [
    "import ctypes\n",
    "import time\n",
    "import numpy as np\n",
    "import matplotlib.pyplot as plt"
   ]
  },
  {
   "cell_type": "code",
   "execution_count": 2,
   "metadata": {
    "collapsed": false
   },
   "outputs": [],
   "source": [
    "class ANDORCAPS(ctypes.Structure):\n",
    "    _fields_ = [(\"ulSize\", ctypes.c_ulong),\n",
    "                (\"ulAcqModes\", ctypes.c_ulong),\n",
    "                (\"ulReadModes\", ctypes.c_ulong),\n",
    "                (\"ulTriggerModes\", ctypes.c_ulong),\n",
    "                (\"ulCameraType\", ctypes.c_ulong),\n",
    "                (\"ulPixelMode\", ctypes.c_ulong),\n",
    "                (\"ulSetFunctions\", ctypes.c_ulong),\n",
    "                (\"ulGetFunctions\", ctypes.c_ulong),\n",
    "                (\"ulFeatures\", ctypes.c_ulong),\n",
    "                (\"ulPCICard\", ctypes.c_ulong),\n",
    "                (\"ulEMGainCapability\", ctypes.c_ulong),\n",
    "                (\"UlFTReadModes\", ctypes.c_ulong)]"
   ]
  },
  {
   "cell_type": "code",
   "execution_count": 3,
   "metadata": {
    "collapsed": false
   },
   "outputs": [],
   "source": [
    "lib = ctypes.cdll.LoadLibrary(\"atmcd64d.dll\")"
   ]
  },
  {
   "cell_type": "code",
   "execution_count": 4,
   "metadata": {
    "collapsed": false
   },
   "outputs": [
    {
     "name": "stdout",
     "output_type": "stream",
     "text": [
      "20002\n",
      "c_long(2)\n"
     ]
    }
   ],
   "source": [
    "n_cams = ctypes.c_int()\n",
    "print lib.GetAvailableCameras(ctypes.byref(n_cams))\n",
    "print n_cams"
   ]
  },
  {
   "cell_type": "code",
   "execution_count": 5,
   "metadata": {
    "collapsed": false
   },
   "outputs": [
    {
     "name": "stdout",
     "output_type": "stream",
     "text": [
      "20002\n",
      "c_long(100)\n",
      "20002\n",
      "c_long(201)\n"
     ]
    }
   ],
   "source": [
    "newton_handle = ctypes.c_int()\n",
    "idus_handle = ctypes.c_int()\n",
    "print lib.GetCameraHandle(0, ctypes.byref(newton_handle))\n",
    "print newton_handle\n",
    "print lib.GetCameraHandle(1, ctypes.byref(idus_handle))\n",
    "print idus_handle"
   ]
  },
  {
   "cell_type": "code",
   "execution_count": 6,
   "metadata": {
    "collapsed": false
   },
   "outputs": [
    {
     "name": "stdout",
     "output_type": "stream",
     "text": [
      "20002\n",
      "20992\n",
      "20002\n",
      "20002\n"
     ]
    }
   ],
   "source": [
    "print lib.SetCurrentCamera(newton_handle)\n",
    "print lib.Initialize()\n",
    "print lib.SetCurrentCamera(idus_handle)\n",
    "print lib.Initialize()"
   ]
  },
  {
   "cell_type": "code",
   "execution_count": 11,
   "metadata": {
    "collapsed": false
   },
   "outputs": [],
   "source": [
    "#c_dir = ctypes.c_char_p(\".\")\n",
    "#lib.Initialize(c_dir)"
   ]
  },
  {
   "cell_type": "code",
   "execution_count": 12,
   "metadata": {
    "collapsed": false
   },
   "outputs": [
    {
     "name": "stdout",
     "output_type": "stream",
     "text": [
      "20002\n",
      "20002\n",
      "c_long(17910)\n",
      "20002\n",
      "20002\n",
      "c_long(17911)\n"
     ]
    }
   ],
   "source": [
    "newton_ser_num = ctypes.c_int()\n",
    "idus_ser_num = ctypes.c_int()\n",
    "print lib.SetCurrentCamera(newton_handle)\n",
    "print lib.GetCameraSerialNumber(ctypes.byref(newton_ser_num))\n",
    "print newton_ser_num\n",
    "print lib.SetCurrentCamera(idus_handle)\n",
    "print lib.GetCameraSerialNumber(ctypes.byref(idus_ser_num))\n",
    "print idus_ser_num"
   ]
  },
  {
   "cell_type": "code",
   "execution_count": 13,
   "metadata": {
    "collapsed": false
   },
   "outputs": [
    {
     "name": "stdout",
     "output_type": "stream",
     "text": [
      "20002\n"
     ]
    }
   ],
   "source": [
    "print lib.SetCurrentCamera(newton_handle)"
   ]
  },
  {
   "cell_type": "code",
   "execution_count": 14,
   "metadata": {
    "collapsed": false
   },
   "outputs": [
    {
     "name": "stdout",
     "output_type": "stream",
     "text": [
      "ret: 20002\n",
      "screen: 1024 by 256\n"
     ]
    }
   ],
   "source": [
    "xpixels, ypixels = ctypes.c_int(), ctypes.c_int()\n",
    "ret = lib.GetDetector(ctypes.byref(xpixels), ctypes.byref(ypixels))\n",
    "print \"ret: %d\" % ret\n",
    "print \"screen: %d by %d\" % (xpixels.value, ypixels.value)"
   ]
  },
  {
   "cell_type": "code",
   "execution_count": 15,
   "metadata": {
    "collapsed": false
   },
   "outputs": [
    {
     "name": "stdout",
     "output_type": "stream",
     "text": [
      "20002\n",
      "c_long(0)\n",
      "c_long(0)\n",
      "c_long(0)\n",
      "c_long(131)\n",
      "c_long(20)\n",
      "c_long(24)\n"
     ]
    }
   ],
   "source": [
    "args = [ctypes.byref(ctypes.c_int()) for i in xrange(6)]\n",
    "print lib.GetHardwareVersion(*args)\n",
    "for i in args:\n",
    "    print i._obj # dereference pointer"
   ]
  },
  {
   "cell_type": "code",
   "execution_count": 16,
   "metadata": {
    "collapsed": false
   },
   "outputs": [
    {
     "name": "stdout",
     "output_type": "stream",
     "text": [
      "20002\n",
      "c_long(11)\n"
     ]
    }
   ],
   "source": [
    "n_VS_speeds = ctypes.c_int()\n",
    "print lib.GetNumberVSSpeeds(ctypes.byref(n_VS_speeds))\n",
    "print n_VS_speeds"
   ]
  },
  {
   "cell_type": "code",
   "execution_count": 18,
   "metadata": {
    "collapsed": false
   },
   "outputs": [
    {
     "name": "stdout",
     "output_type": "stream",
     "text": [
      "ret: 20002; speed: 1.700000\n",
      "ret: 20002; speed: 3.300000\n",
      "ret: 20002; speed: 6.500000\n",
      "ret: 20002; speed: 12.900000\n",
      "ret: 20002; speed: 25.700001\n",
      "ret: 20002; speed: 51.299999\n",
      "ret: 20002; speed: 76.900002\n",
      "ret: 20002; speed: 102.500000\n",
      "ret: 20002; speed: 128.100006\n",
      "ret: 20002; speed: 153.699997\n",
      "ret: 20002; speed: 179.300003\n"
     ]
    }
   ],
   "source": [
    "c_i = ctypes.c_int()\n",
    "speed = ctypes.c_float()\n",
    "VS_speeds = []\n",
    "for i in xrange(n_VS_speeds.value):\n",
    "    c_i.value = i\n",
    "    ret = lib.GetVSSpeed(c_i, ctypes.byref(speed))\n",
    "    print \"ret: %d; speed: %f\" % (ret, speed.value)\n",
    "    VS_speeds.append(speed.value)"
   ]
  },
  {
   "cell_type": "code",
   "execution_count": 19,
   "metadata": {
    "collapsed": false
   },
   "outputs": [
    {
     "name": "stdout",
     "output_type": "stream",
     "text": [
      "20002\n",
      "c_long(0)\n",
      "c_long(0)\n",
      "c_long(0)\n",
      "c_long(0)\n",
      "c_long(99)\n",
      "c_long(2)\n"
     ]
    }
   ],
   "source": [
    "args = [ctypes.byref(ctypes.c_int()) for i in xrange(6)]\n",
    "print lib.GetSoftwareVersion(*args)\n",
    "for i in args:\n",
    "    print i._obj"
   ]
  },
  {
   "cell_type": "code",
   "execution_count": 22,
   "metadata": {
    "collapsed": false
   },
   "outputs": [
    {
     "name": "stdout",
     "output_type": "stream",
     "text": [
      "20068\n",
      "c_long(0)\n"
     ]
    }
   ],
   "source": [
    "n_HS_speeds = ctypes.c_int()\n",
    "print lib.GetNumberHSSpeeds(ctypes.byref(n_HS_speeds))\n",
    "print n_HS_speeds"
   ]
  },
  {
   "cell_type": "code",
   "execution_count": 17,
   "metadata": {
    "collapsed": true
   },
   "outputs": [],
   "source": [
    "c_i = ctypes.c_int()\n",
    "speed = ctypes.c_float()\n",
    "HS_speeds = []\n",
    "for i in xrange(n_HS_speeds.value):\n",
    "    c_i.value = i\n",
    "    ret = lib.GetHSSpeed(c_i, ctypes.byref(speed))\n",
    "    print \"ret: %d; speed: %f\" % (ret.value, speed.value)\n",
    "    HS_speeds.append(speed.value)"
   ]
  },
  {
   "cell_type": "markdown",
   "metadata": {},
   "source": [
    "below begins step 2 of the guide"
   ]
  },
  {
   "cell_type": "code",
   "execution_count": 23,
   "metadata": {
    "collapsed": false
   },
   "outputs": [
    {
     "name": "stdout",
     "output_type": "stream",
     "text": [
      "20002\n",
      "c_long(-120) c_long(-10)\n"
     ]
    }
   ],
   "source": [
    "mintemp, maxtemp = ctypes.c_int(), ctypes.c_int()\n",
    "print lib.GetTemperatureRange(ctypes.byref(mintemp), ctypes.byref(maxtemp))\n",
    "print mintemp, maxtemp"
   ]
  },
  {
   "cell_type": "code",
   "execution_count": 24,
   "metadata": {
    "collapsed": false
   },
   "outputs": [
    {
     "data": {
      "text/plain": [
       "20002"
      ]
     },
     "execution_count": 24,
     "metadata": {},
     "output_type": "execute_result"
    }
   ],
   "source": [
    "lib.SetTemperature(ctypes.c_int(-70))"
   ]
  },
  {
   "cell_type": "code",
   "execution_count": 25,
   "metadata": {
    "collapsed": false
   },
   "outputs": [
    {
     "data": {
      "text/plain": [
       "20002"
      ]
     },
     "execution_count": 25,
     "metadata": {},
     "output_type": "execute_result"
    }
   ],
   "source": [
    "lib.CoolerON()"
   ]
  },
  {
   "cell_type": "markdown",
   "metadata": {},
   "source": [
    "below is step 3 of the guide"
   ]
  },
  {
   "cell_type": "code",
   "execution_count": 26,
   "metadata": {
    "collapsed": false,
    "scrolled": true
   },
   "outputs": [
    {
     "name": "stdout",
     "output_type": "stream",
     "text": [
      "26\n",
      "20037\n",
      "24\n",
      "20037\n",
      "22\n",
      "20037\n",
      "19\n",
      "20037\n",
      "16\n",
      "20037\n",
      "12\n",
      "20037\n",
      "9\n",
      "20037\n",
      "6\n",
      "20037\n",
      "3\n",
      "20037\n",
      "0\n",
      "20037\n",
      "-3\n",
      "20037\n",
      "-6\n",
      "20037\n",
      "-9\n",
      "20037\n",
      "-12\n",
      "20037\n",
      "-15\n",
      "20037\n",
      "-18\n",
      "20037\n",
      "-20\n",
      "20037\n",
      "-24\n",
      "20037\n",
      "-26\n",
      "20037\n",
      "-28\n",
      "20037\n",
      "-30\n",
      "20037\n",
      "-33\n",
      "20037\n",
      "-35\n",
      "20037\n",
      "-37\n",
      "20037\n",
      "-39\n",
      "20037\n",
      "-41\n",
      "20037\n",
      "-43\n",
      "20037\n",
      "-45\n",
      "20037\n",
      "-46\n",
      "20037\n",
      "-48\n",
      "20037\n",
      "-50\n",
      "20037\n",
      "-51\n",
      "20037\n",
      "-53\n",
      "20037\n",
      "-55\n",
      "20037\n",
      "-56\n",
      "20037\n",
      "-57\n",
      "20037\n",
      "-59\n",
      "20037\n",
      "-60\n",
      "20037\n",
      "-61\n",
      "20037\n",
      "-62\n",
      "20037\n",
      "-64\n",
      "20037\n",
      "-64\n",
      "20037\n",
      "-66\n",
      "20037\n",
      "-66\n",
      "20037\n",
      "-67\n",
      "20037\n",
      "-68\n",
      "20035\n",
      "-69\n",
      "20035\n",
      "-70\n",
      "20035\n",
      "-71\n",
      "20035\n",
      "-72\n",
      "20035\n",
      "-72\n",
      "20035\n",
      "-72\n",
      "20037\n",
      "-74\n",
      "20037\n",
      "-74\n",
      "20037\n",
      "-74\n",
      "20037\n",
      "-76\n",
      "20037\n",
      "-76\n",
      "20037\n",
      "-76\n",
      "20037\n",
      "-76\n",
      "20037\n",
      "-76\n",
      "20037\n",
      "-76\n",
      "20037\n",
      "-76\n",
      "20037\n",
      "-76\n",
      "20037\n",
      "-76\n",
      "20037\n",
      "-76\n",
      "20037\n",
      "-75\n",
      "20037\n",
      "-75\n",
      "20037\n",
      "-74\n",
      "20037\n",
      "-74\n",
      "20037\n",
      "-74\n",
      "20037\n",
      "-74\n",
      "20037\n",
      "-74\n",
      "20037\n",
      "-74\n",
      "20037\n",
      "-73\n",
      "20037\n",
      "-73\n",
      "20037\n",
      "-73\n",
      "20037\n",
      "-72\n",
      "20037\n",
      "-72\n",
      "20037\n",
      "-72\n",
      "20037\n",
      "-72\n",
      "20037\n",
      "-72\n",
      "20037\n",
      "-72\n",
      "20035\n",
      "-72\n",
      "20035\n",
      "-72\n",
      "20035\n",
      "-72\n",
      "20035\n",
      "-72\n",
      "20035\n",
      "-72\n",
      "20035\n",
      "-72\n",
      "20035\n",
      "-72\n",
      "20035\n",
      "-72\n",
      "20035\n",
      "-72\n",
      "20035\n",
      "-72\n",
      "20035\n",
      "-72\n",
      "20035\n",
      "-71\n",
      "20035\n",
      "-71\n",
      "20035\n",
      "-71\n",
      "20035\n",
      "-71\n",
      "20035\n",
      "-71\n",
      "20035\n",
      "-71\n",
      "20035\n",
      "-71\n",
      "20035\n",
      "-71\n",
      "20035\n",
      "-71\n",
      "20035\n",
      "-71\n",
      "20035\n",
      "-70\n",
      "20035\n",
      "-70\n",
      "20036\n",
      "stabilized!\n"
     ]
    }
   ],
   "source": [
    "# monitor until temperature stabilized\n",
    "temp = ctypes.c_int()\n",
    "stabilized = False\n",
    "while not stabilized:\n",
    "    ret = lib.GetTemperature(ctypes.byref(temp))\n",
    "    print temp.value\n",
    "    print ret\n",
    "    if ret == 20036: stabilized = True\n",
    "    time.sleep(5)\n",
    "print \"stabilized!\""
   ]
  },
  {
   "cell_type": "markdown",
   "metadata": {},
   "source": [
    "step 4 is checking that it's stablizied.\n",
    "below is step 5 of the guide"
   ]
  },
  {
   "cell_type": "code",
   "execution_count": 27,
   "metadata": {
    "collapsed": false
   },
   "outputs": [
    {
     "data": {
      "text/plain": [
       "20002"
      ]
     },
     "execution_count": 27,
     "metadata": {},
     "output_type": "execute_result"
    }
   ],
   "source": [
    "lib.SetAcquisitionMode(ctypes.c_int(1))"
   ]
  },
  {
   "cell_type": "code",
   "execution_count": 28,
   "metadata": {
    "collapsed": false
   },
   "outputs": [
    {
     "data": {
      "text/plain": [
       "20002"
      ]
     },
     "execution_count": 28,
     "metadata": {},
     "output_type": "execute_result"
    }
   ],
   "source": [
    "# lib.SetReadoutMode doesn't exist; presumably the below?\n",
    "lib.SetReadMode(ctypes.c_int(0))"
   ]
  },
  {
   "cell_type": "code",
   "execution_count": 29,
   "metadata": {
    "collapsed": false
   },
   "outputs": [
    {
     "data": {
      "text/plain": [
       "20002"
      ]
     },
     "execution_count": 29,
     "metadata": {},
     "output_type": "execute_result"
    }
   ],
   "source": [
    "typ = ctypes.c_int(0) # need to look this up! TTL low or high to open shutter?\n",
    "mode = ctypes.c_int(0)\n",
    "closingtime = ctypes.c_int(50) # long time, for now\n",
    "openingtime = ctypes.c_int(50)\n",
    "lib.SetShutter(typ, mode, closingtime, openingtime)"
   ]
  },
  {
   "cell_type": "code",
   "execution_count": 59,
   "metadata": {
    "collapsed": false
   },
   "outputs": [
    {
     "data": {
      "text/plain": [
       "20002"
      ]
     },
     "execution_count": 59,
     "metadata": {},
     "output_type": "execute_result"
    }
   ],
   "source": [
    "lib.SetExposureTime(ctypes.c_float(.01))"
   ]
  },
  {
   "cell_type": "code",
   "execution_count": 31,
   "metadata": {
    "collapsed": false
   },
   "outputs": [
    {
     "data": {
      "text/plain": [
       "20002"
      ]
     },
     "execution_count": 31,
     "metadata": {},
     "output_type": "execute_result"
    }
   ],
   "source": [
    "lib.SetTriggerMode(ctypes.c_int(0))\n",
    "# try also software trigger"
   ]
  },
  {
   "cell_type": "code",
   "execution_count": null,
   "metadata": {
    "collapsed": true
   },
   "outputs": [],
   "source": [
    "lib.SetAccumulationCycleTime # ignore this until accumulation mode is needed"
   ]
  },
  {
   "cell_type": "code",
   "execution_count": null,
   "metadata": {
    "collapsed": true
   },
   "outputs": [],
   "source": [
    "lib.SetNumberAccumulations # ignore this until accumulation mode is needed"
   ]
  },
  {
   "cell_type": "code",
   "execution_count": null,
   "metadata": {
    "collapsed": true
   },
   "outputs": [],
   "source": [
    "lib.SetNumberKinetics # ignore this until kinetic mode is needed"
   ]
  },
  {
   "cell_type": "code",
   "execution_count": null,
   "metadata": {
    "collapsed": true
   },
   "outputs": [],
   "source": [
    "lib.SetKineticCycletime # ignore this until kinetic mode is needed"
   ]
  },
  {
   "cell_type": "code",
   "execution_count": 60,
   "metadata": {
    "collapsed": false
   },
   "outputs": [
    {
     "name": "stdout",
     "output_type": "stream",
     "text": [
      "20002\n",
      "c_float(0.009999999776482582)\n",
      "c_float(0.009999999776482582)\n",
      "c_float(0.009999999776482582)\n"
     ]
    }
   ],
   "source": [
    "args = [ctypes.byref(ctypes.c_float()) for i in xrange(3)]\n",
    "print lib.GetAcquisitionTimings(*args)\n",
    "for i in args:\n",
    "    print i._obj"
   ]
  },
  {
   "cell_type": "code",
   "execution_count": null,
   "metadata": {
    "collapsed": true
   },
   "outputs": [],
   "source": [
    "lib.SetHSSpeed # look this up after getting HS speeds"
   ]
  },
  {
   "cell_type": "code",
   "execution_count": null,
   "metadata": {
    "collapsed": true
   },
   "outputs": [],
   "source": [
    "lib.SetVSSpeed # look this up after getting VS speeds"
   ]
  },
  {
   "cell_type": "markdown",
   "metadata": {},
   "source": [
    "below is step 6 of the guide"
   ]
  },
  {
   "cell_type": "code",
   "execution_count": 61,
   "metadata": {
    "collapsed": false
   },
   "outputs": [
    {
     "name": "stdout",
     "output_type": "stream",
     "text": [
      "20002\n",
      "c_long(20073)\n"
     ]
    }
   ],
   "source": [
    "# the guide omitted something that the GetStatus documentation said:\n",
    "# should call this before an acquisition to check that it's idle (20073)\n",
    "status = ctypes.c_int()\n",
    "print lib.GetStatus(ctypes.byref(status))\n",
    "print status"
   ]
  },
  {
   "cell_type": "code",
   "execution_count": 62,
   "metadata": {
    "collapsed": false
   },
   "outputs": [
    {
     "data": {
      "text/plain": [
       "20002"
      ]
     },
     "execution_count": 62,
     "metadata": {},
     "output_type": "execute_result"
    }
   ],
   "source": [
    "lib.StartAcquisition()"
   ]
  },
  {
   "cell_type": "markdown",
   "metadata": {},
   "source": [
    "below are steps 7 and 8 of the guide"
   ]
  },
  {
   "cell_type": "code",
   "execution_count": 63,
   "metadata": {
    "collapsed": false
   },
   "outputs": [
    {
     "name": "stdout",
     "output_type": "stream",
     "text": [
      "20002\n",
      "c_long(20073)\n",
      "done acquiring!\n"
     ]
    }
   ],
   "source": [
    "# wait until Data Acquisition is complete\n",
    "done = False\n",
    "while not done:\n",
    "    print lib.GetStatus(ctypes.byref(status))\n",
    "    print status\n",
    "    if status.value == 20073: done = True\n",
    "    time.sleep(2)\n",
    "print \"done acquiring!\""
   ]
  },
  {
   "cell_type": "markdown",
   "metadata": {},
   "source": [
    "below are steps 9 and 10 of the guide"
   ]
  },
  {
   "cell_type": "code",
   "execution_count": 64,
   "metadata": {
    "collapsed": false
   },
   "outputs": [
    {
     "name": "stdout",
     "output_type": "stream",
     "text": [
      "20002\n",
      "(1024L, 256L)\n",
      "[[317 316 322 ..., 311 306 305]\n",
      " [300 307 311 ..., 304 303 298]\n",
      " [305 302 308 ..., 305 300 299]\n",
      " ..., \n",
      " [  0   0   0 ...,   0   0   0]\n",
      " [  0   0   0 ...,   0   0   0]\n",
      " [  0   0   0 ...,   0   0   0]]\n"
     ]
    }
   ],
   "source": [
    "#def product(l):\n",
    "#    return reduce(lambda x, y: x*y, l)\n",
    "\n",
    "data = np.zeros((xpixels.value, ypixels.value), dtype=np.int32)\n",
    "#size = ctypes.c_ulong(product(data.shape))\n",
    "size= ctypes.c_ulong(xpixels.value)\n",
    "print lib.GetAcquiredData(data.ctypes, size)\n",
    "print data.shape\n",
    "print data\n",
    "# get new acquisiton? if yes, go back to step 5 (change parameters) or 6 (don't)"
   ]
  },
  {
   "cell_type": "code",
   "execution_count": 65,
   "metadata": {
    "collapsed": false
   },
   "outputs": [],
   "source": [
    "plt.plot(xrange(size.value), data)\n",
    "plt.show()"
   ]
  },
  {
   "cell_type": "code",
   "execution_count": 66,
   "metadata": {
    "collapsed": true
   },
   "outputs": [],
   "source": [
    "plt.imshow(data.T, interpolation=None)\n",
    "plt.show()"
   ]
  },
  {
   "cell_type": "code",
   "execution_count": 53,
   "metadata": {
    "collapsed": true
   },
   "outputs": [],
   "source": [
    "data *= 0"
   ]
  },
  {
   "cell_type": "markdown",
   "metadata": {},
   "source": [
    "there's actually no step 11.\n",
    "below is step 12 of the guide"
   ]
  },
  {
   "cell_type": "code",
   "execution_count": 67,
   "metadata": {
    "collapsed": false
   },
   "outputs": [
    {
     "data": {
      "text/plain": [
       "20002"
      ]
     },
     "execution_count": 67,
     "metadata": {},
     "output_type": "execute_result"
    }
   ],
   "source": [
    "lib.CoolerOFF()"
   ]
  },
  {
   "cell_type": "markdown",
   "metadata": {},
   "source": [
    "below are steps 12 and 13 of the guide"
   ]
  },
  {
   "cell_type": "code",
   "execution_count": 69,
   "metadata": {
    "collapsed": false
   },
   "outputs": [
    {
     "name": "stdout",
     "output_type": "stream",
     "text": [
      "20034\n",
      "c_long(-69)\n"
     ]
    }
   ],
   "source": [
    "# wait until temperature has risen sufficiently\n",
    "print lib.GetTemperature(ctypes.byref(temp))\n",
    "print temp"
   ]
  },
  {
   "cell_type": "markdown",
   "metadata": {},
   "source": [
    "below are steps 15 and 16 of the guide"
   ]
  },
  {
   "cell_type": "code",
   "execution_count": 70,
   "metadata": {
    "collapsed": false
   },
   "outputs": [
    {
     "data": {
      "text/plain": [
       "20002"
      ]
     },
     "execution_count": 70,
     "metadata": {},
     "output_type": "execute_result"
    }
   ],
   "source": [
    "lib.ShutDown(ctypes.c_int(0))\n",
    "# close application"
   ]
  },
  {
   "cell_type": "code",
   "execution_count": 98,
   "metadata": {
    "collapsed": false
   },
   "outputs": [
    {
     "name": "stdout",
     "output_type": "stream",
     "text": [
      "SetExposureTime: 20002\n",
      "\tGetAcqusitionTimings: 20002, 1\n",
      "\tStartAcquisition: 20002\n",
      "20002\n",
      "c_long(20072)\n",
      "20002\n",
      "c_long(20073)\n",
      "done acquiring!\n",
      "GetAcquiredData: 20002\n",
      "SetExposureTime: 20002\n",
      "\tGetAcqusitionTimings: 20002, 0\n",
      "\tStartAcquisition: 20002\n",
      "20002\n",
      "c_long(20072)\n",
      "20002\n",
      "c_long(20073)\n",
      "done acquiring!\n",
      "GetAcquiredData: 20002\n"
     ]
    }
   ],
   "source": [
    "# checking 1 sec vs 0.01 sec exposure times\n",
    "\n",
    "exposure_times = [1, 0.01]\n",
    "data = []\n",
    "\n",
    "def get_exposure(t):\n",
    "    print \"SetExposureTime: %d\" % lib.SetExposureTime(ctypes.c_float(t))\n",
    "    args = [ctypes.byref(ctypes.c_float()) for i in xrange(3)]\n",
    "    print \"\\tGetAcqusitionTimings: %d, %d\" % (\n",
    "        lib.GetAcquisitionTimings(*args), args[0]._obj.value)\n",
    "    print \"\\tStartAcquisition: %d\" % lib.StartAcquisition()\n",
    "    done = False\n",
    "    while not done:\n",
    "        print lib.GetStatus(ctypes.byref(status))\n",
    "        print status\n",
    "        if status.value == 20073: done = True\n",
    "        time.sleep(2)\n",
    "    print \"done acquiring!\"\n",
    "    data = np.zeros((xpixels.value, ypixels.value), dtype=np.int32)\n",
    "    size = ctypes.c_ulong(product(data.shape))\n",
    "    print \"GetAcquiredData: %d\" % lib.GetAcquiredData(data.ctypes, size)\n",
    "    return data\n",
    "\n",
    "for t in exposure_times:\n",
    "    data.append(get_exposure(t))"
   ]
  },
  {
   "cell_type": "code",
   "execution_count": 100,
   "metadata": {
    "collapsed": false
   },
   "outputs": [
    {
     "data": {
      "text/plain": [
       "[<matplotlib.lines.Line2D at 0x1840cb70>,\n",
       " <matplotlib.lines.Line2D at 0x1840cda0>]"
      ]
     },
     "execution_count": 100,
     "metadata": {},
     "output_type": "execute_result"
    }
   ],
   "source": [
    "plt.plot(xrange(512), data[0], xrange(512), data[1])"
   ]
  },
  {
   "cell_type": "code",
   "execution_count": 101,
   "metadata": {
    "collapsed": true
   },
   "outputs": [],
   "source": [
    "plt.show()"
   ]
  },
  {
   "cell_type": "code",
   "execution_count": null,
   "metadata": {
    "collapsed": true
   },
   "outputs": [],
   "source": []
  }
 ],
 "metadata": {
  "kernelspec": {
   "display_name": "Python 2",
   "language": "python",
   "name": "python2"
  },
  "language_info": {
   "codemirror_mode": {
    "name": "ipython",
    "version": 2
   },
   "file_extension": ".py",
   "mimetype": "text/x-python",
   "name": "python",
   "nbconvert_exporter": "python",
   "pygments_lexer": "ipython2",
   "version": "2.7.9"
  }
 },
 "nbformat": 4,
 "nbformat_minor": 0
}
