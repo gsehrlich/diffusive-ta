{
 "cells": [
  {
   "cell_type": "code",
   "execution_count": 1,
   "metadata": {
    "collapsed": true
   },
   "outputs": [],
   "source": [
    "from ctypes import *\n",
    "import time\n",
    "import numpy as np\n",
    "import matplotlib.pyplot as plt\n",
    "import re"
   ]
  },
  {
   "cell_type": "code",
   "execution_count": 37,
   "metadata": {
    "collapsed": false
   },
   "outputs": [],
   "source": [
    "class PythonedDLL(object):\n",
    "    def __init__(self, lib_filename, header_filename):\n",
    "        self.lib = cdll.LoadLibrary(lib_filename)\n",
    "        \n",
    "        consts = {}\n",
    "        errs = {}\n",
    "        const_re = re.compile(r\"\"\"((?:DRV|AC|SHAMROCK)_[A-Z_]+?) ([0-9]+)\"\"\")\n",
    "        with open(header_filename) as f:\n",
    "            for line in f:\n",
    "                found_groups = const_re.findall(line)\n",
    "                if found_groups:\n",
    "                    name, num = found_groups[0]\n",
    "                    consts[name] = int(num)\n",
    "                    if len(num) == 5:\n",
    "                        errs[int(num)] = name\n",
    "        \n",
    "        self.consts = consts\n",
    "        self.errs = errs\n",
    "        \n",
    "        self.already_decorated_funcs = {}\n",
    "        \n",
    "        self.int_ = byref(c_int())\n",
    "        self.long_ = byref(c_long())\n",
    "        \n",
    "    def __getattribute__(self, name):\n",
    "        if name[0].islower():\n",
    "            return super(PythonedDLL, self).__getattribute__(name)\n",
    "        elif name in self.already_decorated_funcs:\n",
    "            return self.already_decorated_funcs[name]\n",
    "        else:\n",
    "            new_func = self.lib_decorator(self.lib.__getattr__(name))\n",
    "            self.already_decorated_funcs[name] = new_func\n",
    "            return new_func\n",
    "        \n",
    "    def lib_decorator(self, func):\n",
    "        def new_func(*args):\n",
    "            msg = self.errs[func(*args)]\n",
    "            if \"SUCCESS\" in msg:\n",
    "                print msg\n",
    "            else:\n",
    "                raise IOException(msg)\n",
    "            \n",
    "            # return value: tuple of values of pointers passed as arguments\n",
    "            # if just one pointer, return just its value\n",
    "            # if no pointers, return None\n",
    "            ret = []\n",
    "            for arg in args:\n",
    "                try:\n",
    "                    ret.append(arg._obj.value)\n",
    "                except AttributeError: pass\n",
    "            if len(ret) == 0:\n",
    "                return\n",
    "            elif len(ret) == 1:\n",
    "                return ret[0]\n",
    "            else:\n",
    "                return tuple(ret)\n",
    "        return new_func    \n",
    "\n",
    "\"\"\"\n",
    "with open(\"ATMCD32D.H\") as f:\n",
    "    atmcd32d_header = f.read()\n",
    "with open(\"ShamrockCIF.h\") as f:\n",
    "    shamrockcif_header = f.read()\n",
    "\n",
    "consts = re.findall(r\"((?:DRV|AC|SHAMROCK)_[A-Z_]+?) ([0-9]+?)\\n\",\n",
    "           atmcd32d_header + shamrockcif_header)\n",
    "err_dict = {int(num): name for name, num in consts if len(num) == 5}\n",
    "print err_dict\n",
    "\n",
    "cam_lib = cdll.LoadLibrary(\"atmcd64d.dll\")\n",
    "spec_lib = cdll.LoadLibrary(\"ShamrockCIF.dll\")\n",
    "\"\"\"\n",
    "\n",
    "None"
   ]
  },
  {
   "cell_type": "code",
   "execution_count": 38,
   "metadata": {
    "collapsed": false
   },
   "outputs": [],
   "source": [
    "cam_lib = PythonedDLL(\"atmcd64d.dll\", \"ATMCD32D.H\")"
   ]
  },
  {
   "cell_type": "code",
   "execution_count": 39,
   "metadata": {
    "collapsed": false
   },
   "outputs": [],
   "source": [
    "spec_lib = PythonedDLL(\"ShamrockCIF.dll\", \"ShamrockCIF.h\")"
   ]
  },
  {
   "cell_type": "code",
   "execution_count": 40,
   "metadata": {
    "collapsed": false
   },
   "outputs": [
    {
     "name": "stdout",
     "output_type": "stream",
     "text": [
      "SHAMROCK_SUCCESS\n"
     ]
    }
   ],
   "source": [
    "spec_lib.ShamrockInitialize(\".\")"
   ]
  },
  {
   "cell_type": "code",
   "execution_count": 41,
   "metadata": {
    "collapsed": false
   },
   "outputs": [
    {
     "name": "stdout",
     "output_type": "stream",
     "text": [
      "SHAMROCK_SUCCESS\n"
     ]
    },
    {
     "data": {
      "text/plain": [
       "1"
      ]
     },
     "execution_count": 41,
     "metadata": {},
     "output_type": "execute_result"
    }
   ],
   "source": [
    "spec_lib.ShamrockGetNumberDevices(c_int_ptr)"
   ]
  },
  {
   "cell_type": "code",
   "execution_count": 42,
   "metadata": {
    "collapsed": false
   },
   "outputs": [
    {
     "name": "stdout",
     "output_type": "stream",
     "text": [
      "SHAMROCK_SUCCESS\n"
     ]
    },
    {
     "data": {
      "text/plain": [
       "1"
      ]
     },
     "execution_count": 42,
     "metadata": {},
     "output_type": "execute_result"
    }
   ],
   "source": [
    "spec_lib.ShamrockFlipperMirrorIsPresent(0, 2, c_int_ptr)"
   ]
  },
  {
   "cell_type": "code",
   "execution_count": 43,
   "metadata": {
    "collapsed": false
   },
   "outputs": [
    {
     "name": "stdout",
     "output_type": "stream",
     "text": [
      "SHAMROCK_SUCCESS\n"
     ]
    },
    {
     "data": {
      "text/plain": [
       "0"
      ]
     },
     "execution_count": 43,
     "metadata": {},
     "output_type": "execute_result"
    }
   ],
   "source": [
    "spec_lib.ShamrockGetFlipperMirror(0, 2, c_int_ptr)"
   ]
  },
  {
   "cell_type": "code",
   "execution_count": 44,
   "metadata": {
    "collapsed": false
   },
   "outputs": [
    {
     "name": "stdout",
     "output_type": "stream",
     "text": [
      "SHAMROCK_SUCCESS\n"
     ]
    }
   ],
   "source": [
    "spec_lib.ShamrockSetFlipperMirror(0, 2, 0)"
   ]
  },
  {
   "cell_type": "code",
   "execution_count": 11,
   "metadata": {
    "collapsed": false
   },
   "outputs": [
    {
     "ename": "IndentationError",
     "evalue": "expected an indented block (<ipython-input-11-709c8fa6c5d6>, line 3)",
     "output_type": "error",
     "traceback": [
      "\u001b[1;36m  File \u001b[1;32m\"<ipython-input-11-709c8fa6c5d6>\"\u001b[1;36m, line \u001b[1;32m3\u001b[0m\n\u001b[1;33m    n_cams = ctypes.c_int()\u001b[0m\n\u001b[1;37m         ^\u001b[0m\n\u001b[1;31mIndentationError\u001b[0m\u001b[1;31m:\u001b[0m expected an indented block\n"
     ]
    }
   ],
   "source": [
    "class AndorCamera(object):\n",
    "    name_dict = {17910: \"newton\",\n",
    "                 17911: \"idus\"}\n",
    "    \n",
    "    def check_current(self):\n",
    "        cur_camera_handle = c_int()\n",
    "        cam_lib.GetCurrentCamera(byref(cur_camera_handle))\n",
    "        if not cur_camera_handle == self.handle:\n",
    "            raise IOException(\"%s is not current camera\" % self.name)\n",
    "            \n",
    "    def __init__(self, handle, name=None):\n",
    "        self.handle = handle\n",
    "        self.check_current()\n",
    "        \n",
    "        self.serial_no = cam_lib.GetCameraSerialNumber(cam_lib.int_)\n",
    "        try: \n",
    "            raise IOException(\"Unknown name: camera with serial no %d\" % self.serial_no)\n",
    "        \n",
    "cams = {}\n",
    "for i in xrange(cam_lib.GetAvailableCameras(cam_lib.int_)):\n",
    "    cam = AndorCamera(\"\n",
    "        \n",
    "\n",
    "n_cams = c_int()\n",
    "print cam_lib.GetAvailableCameras(byref(n_cams))\n",
    "print \"Number of cams: %d\" n_cams\n",
    "\n",
    "newton_handle = c_int()\n",
    "idus_handle = c_int()\n",
    "print cam_lib.GetCameraHandle(0, byref(newton_handle))\n",
    "print \"First camera handle: %d\" % newton_handle\n",
    "print cam_lib.GetCameraHandle(1, byref(idus_handle))\n",
    "print \"Second camera handle: %d\" % idus_handle\n",
    "\n",
    "newton_ser_num = c_int()\n",
    "idus_ser_num = c_int()\n",
    "print cam_lib.SetCurrentCamera(newton_handle)\n",
    "print cam_lib.GetCameraSerialNumber(byref(newton_ser_num))\n",
    "print \"First camera serial number: %d\" % newton_ser_num\n",
    "print cam_lib.SetCurrentCamera(idus_handle)\n",
    "print cam_lib.GetCameraSerialNumber(byref(idus_ser_num))\n",
    "print \"Second camera serial number: %d\" % idus_ser_num"
   ]
  }
 ],
 "metadata": {
  "kernelspec": {
   "display_name": "Python 2",
   "language": "python",
   "name": "python2"
  },
  "language_info": {
   "codemirror_mode": {
    "name": "ipython",
    "version": 2
   },
   "file_extension": ".py",
   "mimetype": "text/x-python",
   "name": "python",
   "nbconvert_exporter": "python",
   "pygments_lexer": "ipython2",
   "version": "2.7.9"
  }
 },
 "nbformat": 4,
 "nbformat_minor": 0
}
