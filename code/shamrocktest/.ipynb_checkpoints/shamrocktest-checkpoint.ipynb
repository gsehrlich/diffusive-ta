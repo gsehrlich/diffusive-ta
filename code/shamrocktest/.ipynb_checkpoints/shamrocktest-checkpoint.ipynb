{
 "cells": [
  {
   "cell_type": "code",
   "execution_count": 1,
   "metadata": {
    "collapsed": false
   },
   "outputs": [],
   "source": [
    "from ctypes import *\n",
    "import time\n",
    "from pylab import *\n",
    "import re\n",
    "import datetime"
   ]
  },
  {
   "cell_type": "code",
   "execution_count": 2,
   "metadata": {
    "collapsed": false
   },
   "outputs": [],
   "source": [
    "class PythonedDLL(object):\n",
    "    ptr_constrs = {\n",
    "        int: lambda: byref(c_int()),\n",
    "        long: lambda: byref(c_long()),\n",
    "        float: lambda: byref(c_float()),\n",
    "        str: lambda: c_char_p(\"\")\n",
    "        }\n",
    "    var_constrs = {\n",
    "        int: c_int,\n",
    "        float: c_float\n",
    "        }\n",
    "    \n",
    "    def new_ptr(self, typ):\n",
    "        return self.ptr_constrs[typ]()\n",
    "    \n",
    "    def new_var(self, arg):\n",
    "        return self.var_constrs[type(arg)](arg)\n",
    "    \n",
    "    def convert_arg(self, arg):\n",
    "        # return arg and whether it's a return val\n",
    "        try:\n",
    "            # argument is a type (indicating return val)\n",
    "            return self.new_ptr(arg), True\n",
    "        except KeyError:\n",
    "            try:\n",
    "                # argument is a Python value to convert\n",
    "                return self.new_var(arg), False\n",
    "            except KeyError:\n",
    "                # argument is a Python value not to convert\n",
    "                return arg, False\n",
    "    \n",
    "    def __init__(self, lib_filename, header_filename):\n",
    "        self.lib = cdll.LoadLibrary(lib_filename)\n",
    "        \n",
    "        consts = {}\n",
    "        errs = {}\n",
    "        const_re = re.compile(r\"\"\"((?:DRV|AC|SHAMROCK)_[A-Z0-9_]+?) ([0-9]+)\"\"\")\n",
    "        with open(header_filename) as f:\n",
    "            for line in f:\n",
    "                found_groups = const_re.findall(line)\n",
    "                if found_groups:\n",
    "                    name, num = found_groups[0]\n",
    "                    consts[name] = int(num)\n",
    "                    if len(num) == 5:\n",
    "                        errs[int(num)] = name\n",
    "        \n",
    "        self.consts = consts\n",
    "        self.errs = errs\n",
    "        \n",
    "        self.already_decorated_funcs = {}\n",
    "        \n",
    "    def __getattribute__(self, name):\n",
    "        if name[0].islower():\n",
    "            return super(PythonedDLL, self).__getattribute__(name)\n",
    "        elif name in self.already_decorated_funcs:\n",
    "            return self.already_decorated_funcs[name]\n",
    "        else:\n",
    "            new_func = self.lib_decorator(self.lib.__getattr__(name))\n",
    "            self.already_decorated_funcs[name] = new_func\n",
    "            return new_func\n",
    "        \n",
    "    def lib_decorator(self, func):\n",
    "        def new_func(*args):\n",
    "            if len(args) > 0:\n",
    "                new_args, is_return_val = zip(*map(self.convert_arg, args))\n",
    "            else:\n",
    "                new_args, is_return_val = (), ()\n",
    "            msg = self.errs[func(*new_args)]\n",
    "            if not \"SUCCESS\" in msg:\n",
    "                raise IOError(msg)\n",
    "            \n",
    "            # return value: tuple of values of pointers passed as arguments\n",
    "            # if just one pointer, return just its value\n",
    "            # if no pointers, return None\n",
    "            ret = []\n",
    "            for i, arg in enumerate(new_args):\n",
    "                if is_return_val[i]:\n",
    "                    try:\n",
    "                        ret.append(arg._obj.value)\n",
    "                    except AttributeError:\n",
    "                        ret.append(arg.value)\n",
    "                \n",
    "            # What to do depends on return value. If none, print SUCCESS.\n",
    "            # Otherwise, just return the value.\n",
    "            if len(ret) == 0:\n",
    "                print msg\n",
    "            elif len(ret) == 1:\n",
    "                return ret[0]\n",
    "            else:\n",
    "                return tuple(ret)\n",
    "        return new_func"
   ]
  },
  {
   "cell_type": "code",
   "execution_count": 4,
   "metadata": {
    "collapsed": false
   },
   "outputs": [],
   "source": [
    "cam_lib = PythonedDLL(\"atmcd64d.dll\", \"ATMCD32D.H\")"
   ]
  },
  {
   "cell_type": "code",
   "execution_count": 6,
   "metadata": {
    "collapsed": false
   },
   "outputs": [],
   "source": [
    "spec_lib = PythonedDLL(\"ShamrockCIF.dll\", \"ShamrockCIF.h\")"
   ]
  },
  {
   "cell_type": "code",
   "execution_count": 9,
   "metadata": {
    "collapsed": false
   },
   "outputs": [
    {
     "name": "stdout",
     "output_type": "stream",
     "text": [
      "SHAMROCK_SUCCESS\n"
     ]
    }
   ],
   "source": [
    "spec_lib.ShamrockInitialize(\".\")"
   ]
  },
  {
   "cell_type": "code",
   "execution_count": 6,
   "metadata": {
    "collapsed": false
   },
   "outputs": [
    {
     "name": "stdout",
     "output_type": "stream",
     "text": [
      "2\n"
     ]
    }
   ],
   "source": [
    "print spec_lib.ShamrockGetNumberDevices(int)"
   ]
  },
  {
   "cell_type": "code",
   "execution_count": 7,
   "metadata": {
    "collapsed": false
   },
   "outputs": [
    {
     "name": "stdout",
     "output_type": "stream",
     "text": [
      "SR2078\n",
      "X\u0001$\u000b",
      "\n"
     ]
    }
   ],
   "source": [
    "print spec_lib.ShamrockGetSerialNumber(0, str)\n",
    "print spec_lib.ShamrockGetSerialNumber(1, str) # optical chopper?"
   ]
  },
  {
   "cell_type": "code",
   "execution_count": 8,
   "metadata": {
    "collapsed": false
   },
   "outputs": [
    {
     "data": {
      "text/plain": [
       "1"
      ]
     },
     "execution_count": 8,
     "metadata": {},
     "output_type": "execute_result"
    }
   ],
   "source": [
    "spec_lib.ShamrockFlipperMirrorIsPresent(0, 2, int)"
   ]
  },
  {
   "cell_type": "code",
   "execution_count": 9,
   "metadata": {
    "collapsed": false
   },
   "outputs": [
    {
     "data": {
      "text/plain": [
       "0"
      ]
     },
     "execution_count": 9,
     "metadata": {},
     "output_type": "execute_result"
    }
   ],
   "source": [
    "spec_lib.ShamrockGetFlipperMirror(0, 2, int)"
   ]
  },
  {
   "cell_type": "code",
   "execution_count": 10,
   "metadata": {
    "collapsed": false
   },
   "outputs": [
    {
     "name": "stdout",
     "output_type": "stream",
     "text": [
      "SHAMROCK_SUCCESS\n"
     ]
    }
   ],
   "source": [
    "spec_lib.ShamrockSetFlipperMirror(0, 2, 0)"
   ]
  },
  {
   "cell_type": "code",
   "execution_count": 11,
   "metadata": {
    "collapsed": false
   },
   "outputs": [
    {
     "name": "stdout",
     "output_type": "stream",
     "text": [
      "1\n"
     ]
    }
   ],
   "source": [
    "grating_ind = spec_lib.ShamrockGetGrating(0, int)\n",
    "print grating_ind"
   ]
  },
  {
   "cell_type": "code",
   "execution_count": 12,
   "metadata": {
    "collapsed": false
   },
   "outputs": [
    {
     "data": {
      "text/plain": [
       "(0.0, 11249.0)"
      ]
     },
     "execution_count": 12,
     "metadata": {},
     "output_type": "execute_result"
    }
   ],
   "source": [
    "spec_lib.ShamrockGetWavelengthLimits(0, grating_ind, float, float)"
   ]
  },
  {
   "cell_type": "code",
   "execution_count": 13,
   "metadata": {
    "collapsed": false
   },
   "outputs": [
    {
     "data": {
      "text/plain": [
       "(0.0, 2000.0)"
      ]
     },
     "execution_count": 13,
     "metadata": {},
     "output_type": "execute_result"
    }
   ],
   "source": [
    "spec_lib.ShamrockGetCCDLimits(0, 1, float, float)"
   ]
  },
  {
   "cell_type": "code",
   "execution_count": 14,
   "metadata": {
    "collapsed": false
   },
   "outputs": [
    {
     "name": "stdout",
     "output_type": "stream",
     "text": [
      "0\n"
     ]
    }
   ],
   "source": [
    "print spec_lib.ShamrockGetNumberPixels(0, int)"
   ]
  },
  {
   "cell_type": "code",
   "execution_count": 15,
   "metadata": {
    "collapsed": false
   },
   "outputs": [],
   "source": [
    "# Doesn't work yet\n",
    "\"\"\"\n",
    "calib = zeros(512)\n",
    "print spec_lib.lib.ShamrockGetCalibration(0, calib.ctypes, 512)\n",
    "plot(xrange(len(calib)), calib);show()\n",
    "\"\"\"\n",
    "None"
   ]
  },
  {
   "cell_type": "code",
   "execution_count": 11,
   "metadata": {
    "collapsed": false,
    "scrolled": true
   },
   "outputs": [
    {
     "name": "stdout",
     "output_type": "stream",
     "text": [
      "Initializing...\n",
      "DRV_SUCCESS\n",
      "Initialized idus.\n",
      "GetNumberVSSpeeds: DRV_NOT_SUPPORTED\n",
      "Setting idus temperature: DRV_SUCCESS\n",
      "Turning idus cooler on: DRV_SUCCESS\n",
      "Setting current: DRV_SUCCESS\n",
      "Initializing...\n",
      "DRV_SUCCESS\n",
      "Initialized newton.\n",
      "Setting newton temperature: DRV_SUCCESS\n",
      "Turning newton cooler on: DRV_SUCCESS\n"
     ]
    }
   ],
   "source": [
    "class AndorCamera(object):\n",
    "    name_dict = {\n",
    "        17910: \"newton\",\n",
    "        17911: \"idus\"\n",
    "        }\n",
    "    # temp must be an int\n",
    "    default_temp = {\n",
    "        \"newton\": -70,\n",
    "        \"idus\": -70\n",
    "        }\n",
    "    trigger_modes = {\n",
    "        \"internal\": 0,\n",
    "        \"external\": 1,\n",
    "        \"external start\": 6,\n",
    "        }\n",
    "    read_modes = {\n",
    "        \"fullbin\": 0,\n",
    "        \"image\": 4\n",
    "        }\n",
    "    trigger_type = 0 # TIL low open shutter\n",
    "    flipper_ports = {\n",
    "        \"newton\": 0,\n",
    "        \"idus\": 1,\n",
    "        }\n",
    "    \n",
    "    def make_current(self):\n",
    "        if cam_lib.GetCurrentCamera(int) != self.handle:\n",
    "            print \"Setting current:\",\n",
    "            cam_lib.SetCurrentCamera(self.handle)\n",
    "    \n",
    "    @property\n",
    "    def temp(self):\n",
    "        return self._temp\n",
    "    \n",
    "    @temp.setter\n",
    "    def temp(self, temp):\n",
    "        if temp is None:\n",
    "            self._temp = self.default_temp[self.name]\n",
    "        else:\n",
    "            self._temp = int(temp)\n",
    "        print \"Setting %s temperature:\" % self.name,\n",
    "        cam_lib.SetTemperature(self._temp)\n",
    "            \n",
    "    def __init__(self, handle, spec_ind=0, temp=None):\n",
    "        self.spec_ind = spec_ind # index of spectrometer to which attached\n",
    "        \n",
    "        self.handle = handle\n",
    "        self.make_current()\n",
    "        \n",
    "        print \"Initializing...\"\n",
    "        cam_lib.Initialize()\n",
    "        \n",
    "        self.serial_no = cam_lib.GetCameraSerialNumber(int)\n",
    "        self.name = self.name_dict[self.serial_no]\n",
    "        print \"Initialized %s.\" % self.name\n",
    "        \n",
    "        self.x, self.y = cam_lib.GetDetector(int, int)\n",
    "        self.hardware_version = cam_lib.GetHardwareVersion(*(int,)*6)\n",
    "        try:\n",
    "            self.n_VS_speeds = cam_lib.GetNumberVSSpeeds(int)\n",
    "        except IOError as e:\n",
    "            self.n_VS_speeds = 0\n",
    "            print \"GetNumberVSSpeeds: %s\" % e.message\n",
    "        if self.n_VS_speeds > 0:\n",
    "            self.VS_speeds = tuple((cam_lib.GetVSSpeed(i, int)\n",
    "                                    for i in xrange(self.n_VS_speeds)))\n",
    "        \n",
    "        # TODO, maybe: figure out first two params that work\n",
    "        #self.n_HS_speeds = cam_lib.GetNumberHSSpeeds(1, 0, int)\n",
    "        #self.HS_speeds = tuple((cam_lib.GetHSSpeed(i, 1, 0, float)\n",
    "        #                        for i in xrange(self.n_HS_speeds)))\n",
    "        \n",
    "        self.mintemp, self.maxtemp = cam_lib.GetTemperatureRange(int, int)\n",
    "\n",
    "        self.temp = temp\n",
    "        print \"Turning %s cooler on:\" % self.name,\n",
    "        cam_lib.CoolerON()\n",
    "        \n",
    "    def get_temp(self, out=False):\n",
    "        temp = c_int()\n",
    "        # don't want usual return behavior, so go to ctypes.cdll object\n",
    "        ret = cam_lib.lib.GetTemperature(byref(temp))\n",
    "        if out:\n",
    "            print \"\\r\\t%d, %s\" % (temp.value, cam_lib.errs[ret])\n",
    "        return temp.value, ret\n",
    "        \n",
    "    def wait_until_cool(self, out=False, dt=5):\n",
    "        self.make_current()\n",
    "\n",
    "        stabilized = False\n",
    "        if out:\n",
    "            print \"Waiting for temp to reach %d\" % self.temp\n",
    "            print \"Temp is: \"\n",
    "        while not stabilized:\n",
    "            temp, ret = self.get_temp(out=out)\n",
    "            if ret == cam_lib.consts[\"DRV_TEMPERATURE_STABILIZED\"]:\n",
    "                stabilized = True\n",
    "            if not stabilized: time.sleep(dt)\n",
    "                \n",
    "    def assert_idle(self):\n",
    "        assert cam_lib.GetStatus(int) == cam_lib.consts[\"DRV_IDLE\"]\n",
    "            \n",
    "    def set_wavelen(self, wavelen):\n",
    "        print \"Setting wavelength: \",\n",
    "        spec_lib.ShamrockSetWavelength(self.spec_ind, float(wavelen))\n",
    "        \n",
    "    def prep_acquisition(self, acq_mode, read_mode, exp_time=0, accum_cycle_time=None,\n",
    "                         n_accums=None, kin_cycle_time=None, n_kinetics=None, trigger=\"internal\",\n",
    "                         slit=None, wavelen=None, fast_external=False):\n",
    "        self.make_current()\n",
    "        print \"Setting acquisition mode:\",\n",
    "        cam_lib.SetAcquisitionMode(acq_mode) # Single-scan\n",
    "        print \"Setting trigger mode:\",\n",
    "        cam_lib.SetTriggerMode(self.trigger_modes[trigger])\n",
    "        if trigger==\"external\":\n",
    "            cam_lib.SetFastExtTrigger(fast_external)\n",
    "        print \"Setting read mode:\",\n",
    "        cam_lib.SetReadMode(self.read_modes[read_mode])\n",
    "        \n",
    "        if slit is not None:\n",
    "            print \"Setting slit width:\",\n",
    "            spec_lib.ShamrockSetSlit(0, float(slit))\n",
    "        print \"Setting exposure time:\",\n",
    "        cam_lib.SetExposureTime(float(exp_time))\n",
    "        if accum_cycle_time is not None:\n",
    "            print \"Setting accumulation cycle time:\",\n",
    "            cam_lib.SetAccumulationCycleTime(float(accum_cycle_time))\n",
    "        if n_accums is not None:\n",
    "            print \"Setting number of accumulations:\",\n",
    "            cam_lib.SetNumberAccumulations(n_accums)\n",
    "        if kin_cycle_time is not None:\n",
    "            print \"Setting kinetic cycle time:\",\n",
    "            cam_lib.SetKineticCycleTime(float(kin_cycle_time))\n",
    "        if n_kinetics is not None:\n",
    "            print \"Setting number of kinetics:\",\n",
    "            cam_lib.SetNumberKinetics(n_kinetics)\n",
    "        actual_times = cam_lib.GetAcquisitionTimings(*(float,)*3)\n",
    "        \n",
    "        print \"Setting flipper mirror:\"\n",
    "        spec_lib.ShamrockSetFlipperMirror(\n",
    "            0, # interrogate our only Shamrock\n",
    "            2, # it's an OUTPUT flipper\n",
    "            self.flipper_ports[self.name]\n",
    "            )\n",
    "        if wavelen is not None:\n",
    "            self.set_wavelen(wavelen)\n",
    "        \n",
    "        return actual_times\n",
    "    \n",
    "    def get_new_array(self, n_images, read_mode):\n",
    "        if read_mode == \"image\":\n",
    "            return zeros((n_images, self.y, self.x), dtype=int32)\n",
    "        elif read_mode == \"fullbin\":\n",
    "            return zeros((n_images, self.x), dtype=int32)\n",
    "        else:\n",
    "            raise TypeError(\"read_mode %r not recognized\" % read_mode)\n",
    "    \n",
    "    def get_exposures(self, read_mode, tot_time, dark=False):\n",
    "        self.make_current()\n",
    "        \n",
    "        self.assert_idle()\n",
    "        if dark:\n",
    "            print \"Making sure Shamrock shutter is closed...\"\n",
    "            spec_lib.ShamrockSetShutter(0, 0)\n",
    "        else:\n",
    "            print \"Opening Shamrock shutter...\"\n",
    "            spec_lib.ShamrockSetShutter(0, 1)\n",
    "        print \"Starting acquisition...\"\n",
    "        cam_lib.StartAcquisition()\n",
    "        time.sleep(tot_time)\n",
    "        # give the camera a little extra time if necessary\n",
    "        try:\n",
    "            self.assert_idle()\n",
    "        except AssertionError:\n",
    "            time.sleep(1)\n",
    "            self.assert_idle()\n",
    "        if not dark:\n",
    "            print \"Closing shutter...\"\n",
    "            spec_lib.ShamrockSetShutter(0, 0)\n",
    "        \n",
    "        return self.get_data(read_mode)\n",
    "    \n",
    "    def get_data(self, read_mode, data=None):\n",
    "        # provide `data` to overwrite that array instead of making a new one\n",
    "        self.make_current()\n",
    "        \n",
    "        first, last = cam_lib.GetNumberNewImages(long, long)\n",
    "        n_images = 1 + last - first\n",
    "\n",
    "        if data is None:\n",
    "            data = self.get_new_array(n_images, read_mode)\n",
    "        size = c_ulong(reduce(lambda x, y: x*y, data.shape)) # product\n",
    "        actual_first, actual_last = c_long(), c_long()\n",
    "        ret = cam_lib.lib.GetImages(first, last, data.ctypes, size,\n",
    "                                    byref(actual_first), byref(actual_last))\n",
    "        if ret != cam_lib.consts[\"DRV_SUCCESS\"]:\n",
    "            raise IOError(cam_lib.errs[ret])\n",
    "        \n",
    "        return data\n",
    "    \n",
    "    def single_scan(self, **kwargs):\n",
    "        read_mode = kwargs.pop(\"read_mode\", \"fullbin\")\n",
    "        dark = kwargs.pop(\"dark\", False)\n",
    "        actual_exp_time = self.prep_acquisition(acq_mode=1, read_mode=read_mode, **kwargs)[0]\n",
    "        \n",
    "        return self.get_exposures(read_mode, tot_time=actual_exp_time, dark=dark)\n",
    "    \n",
    "    def accum(self, n_accums, **kwargs):\n",
    "        read_mode = kwargs.pop(\"read_mode\", \"fullbin\")\n",
    "        dark = kwargs.pop(\"dark\", False)\n",
    "        kwargs.setdefault(\"accum_cycle_time\", 0)\n",
    "        kwargs[\"n_accums\"] = n_accums\n",
    "        actual_times = self.prep_acquisition(acq_mode=2, read_mode=read_mode, **kwargs)\n",
    "        \n",
    "        return self.get_exposures(read_mode, tot_time=actual_times[1]*n_accums, dark=dark)\n",
    "\n",
    "# Doesn't work yet\n",
    "\"\"\"\n",
    "    def cont_single_scans(self, **kwargs):\n",
    "        self.make_current()\n",
    "        \n",
    "        read_mode = kwargs.pop(\"read_mode\", \"image\")\n",
    "        kwargs.setdefault(\"kin_cycle_time\", 0)\n",
    "        actual_times = self.prep_acquisition(acq_mode=1, read_mode=read_mode, **kwargs)\n",
    "        \n",
    "        #w = pg.image()\n",
    "        data = self.get_new_array(n_images=1, read_mode=read_mode)\n",
    "        while w.isVisible():\n",
    "            cam_lib.StartAcquisition()\n",
    "            time.sleep(1)\n",
    "            self.get_data(read_mode=read_mode, data=data)\n",
    "            w.setImage(data)\n",
    "\"\"\"\n",
    "        \n",
    "cams = {}\n",
    "for i in xrange(cam_lib.GetAvailableCameras(int)):\n",
    "    cam = AndorCamera(cam_lib.GetCameraHandle(i, int))\n",
    "    cams[cam.name] = cam\n",
    "locals().update(cams)"
   ]
  },
  {
   "cell_type": "code",
   "execution_count": 13,
   "metadata": {
    "collapsed": false,
    "scrolled": true
   },
   "outputs": [
    {
     "name": "stdout",
     "output_type": "stream",
     "text": [
      "\r",
      "\t22, DRV_TEMP_NOT_REACHED\n",
      "\r",
      "\t22, DRV_TEMP_NOT_REACHED\n"
     ]
    },
    {
     "data": {
      "text/plain": [
       "(22, 20037)"
      ]
     },
     "execution_count": 13,
     "metadata": {},
     "output_type": "execute_result"
    }
   ],
   "source": [
    "newton.get_temp(out=True)\n",
    "idus.get_temp(out=True)"
   ]
  },
  {
   "cell_type": "code",
   "execution_count": 16,
   "metadata": {
    "collapsed": false
   },
   "outputs": [
    {
     "name": "stdout",
     "output_type": "stream",
     "text": [
      "SHAMROCK_SUCCESS\n"
     ]
    },
    {
     "data": {
      "text/plain": [
       "1"
      ]
     },
     "execution_count": 16,
     "metadata": {},
     "output_type": "execute_result"
    }
   ],
   "source": [
    "spec_lib.ShamrockSetGrating(0, 1)\n",
    "spec_lib.ShamrockGetGrating(0, int)"
   ]
  },
  {
   "cell_type": "code",
   "execution_count": 21,
   "metadata": {
    "collapsed": false
   },
   "outputs": [
    {
     "data": {
      "text/plain": [
       "1.7000000476837158"
      ]
     },
     "execution_count": 21,
     "metadata": {},
     "output_type": "execute_result"
    }
   ],
   "source": [
    "newton.make_current()\n",
    "cam_lib.GetNumberVSSpeeds(int)\n",
    "cam_lib.GetVSSpeed(0, float)"
   ]
  },
  {
   "cell_type": "code",
   "execution_count": 157,
   "metadata": {
    "collapsed": false
   },
   "outputs": [
    {
     "name": "stdout",
     "output_type": "stream",
     "text": [
      "Setting acquisition mode: DRV_SUCCESS\n",
      "Setting trigger mode: DRV_SUCCESS\n",
      "DRV_SUCCESS\n",
      "Setting read mode: DRV_SUCCESS\n",
      "Setting exposure time: DRV_SUCCESS\n",
      "Setting accumulation cycle time: DRV_SUCCESS\n",
      "Setting number of accumulations: DRV_SUCCESS\n",
      "Setting kinetic cycle time: DRV_SUCCESS\n",
      "Setting number of kinetics: DRV_SUCCESS\n",
      "Setting flipper mirror:\n",
      "SHAMROCK_SUCCESS\n",
      "Setting wavelength:  SHAMROCK_SUCCESS\n",
      "Kinetic cycle time: 0.00377\n",
      "Will sleep for 0.00251333 secs\n",
      "SHAMROCK_SUCCESS\n",
      "DRV_SUCCESS\n",
      "SHAMROCK_SUCCESS\n",
      "For 100 acquisitions, time: 0:00:01.010000\n",
      "Time per acquisition: 0:00:00.010100\n"
     ]
    }
   ],
   "source": [
    "n = 100\n",
    "cam = newton\n",
    "\n",
    "cam.make_current()\n",
    "cam.prep_acquisition(acq_mode=3, read_mode=\"fullbin\", exp_time=0., accum_cycle_time=0.,\n",
    "                         n_accums=1, kin_cycle_time=0., n_kinetics=n, trigger=\"external\",\n",
    "                         slit=None, wavelen=543., fast_external=True)\n",
    "exp, accum, kin = cam_lib.GetAcquisitionTimings(float, float, float)\n",
    "loop_time = 2*kin/3\n",
    "print \"Kinetic cycle time: %g\" % kin\n",
    "print \"Will sleep for %g secs\" % loop_time\n",
    "\n",
    "all_data = zeros((n, cam.x), dtype=int32)\n",
    "\n",
    "idus.assert_idle()\n",
    "\n",
    "spec_lib.ShamrockSetShutter(0, 1)\n",
    "cam_lib.StartAcquisition()\n",
    "start = datetime.datetime.now()\n",
    "\n",
    "i = 0\n",
    "while i < n:\n",
    "    ready = False\n",
    "    while not ready:\n",
    "        try:\n",
    "            first, last = cam_lib.GetNumberNewImages(int, int)\n",
    "        except IOError as e:\n",
    "            if not \"NO_NEW\" in e.message:\n",
    "                raise e\n",
    "            else:\n",
    "                time.sleep(loop_time)\n",
    "        else:\n",
    "            ready = True\n",
    "    n_new = 1 + last - first\n",
    "    cam_lib.GetImages(first, last, all_data[i:i+n_new].ctypes, n_new*cam.x, int, int)\n",
    "    i += n_new\n",
    "    time.sleep(loop_time)   \n",
    "\n",
    "end = datetime.datetime.now()\n",
    "spec_lib.ShamrockSetShutter(0, 0)\n",
    "\n",
    "tot_time = end - start\n",
    "print \"For %d acquisitions, time: %s\" % (n, tot_time)\n",
    "print \"Time per acquisition: %s\" % (tot_time/n)\n",
    "\n",
    "plot(sum(all_data, 0));show()"
   ]
  },
  {
   "cell_type": "code",
   "execution_count": 120,
   "metadata": {
    "collapsed": false
   },
   "outputs": [
    {
     "name": "stdout",
     "output_type": "stream",
     "text": [
      "0\n",
      "1\n",
      "2\n",
      "3\n",
      "4\n",
      "5\n",
      "6\n",
      "7\n",
      "8\n",
      "9\n",
      "10\n",
      "11\n",
      "12\n",
      "13\n",
      "14\n",
      "15\n",
      "16\n",
      "17\n",
      "18\n",
      "19\n",
      "20\n",
      "21\n",
      "22\n",
      "23\n",
      "24\n",
      "25\n",
      "26\n",
      "27\n",
      "28\n",
      "29\n",
      "30\n",
      "31\n",
      "32\n",
      "33\n",
      "34\n",
      "35\n",
      "36\n",
      "37\n",
      "38\n",
      "39\n",
      "40\n",
      "41\n",
      "42\n",
      "43\n",
      "44\n",
      "45\n",
      "46\n",
      "47\n",
      "48\n",
      "49\n",
      "50\n",
      "51\n",
      "52\n",
      "53\n",
      "54\n",
      "55\n",
      "56\n",
      "57\n",
      "58\n",
      "59\n",
      "60\n",
      "61\n",
      "62\n",
      "63\n",
      "64\n",
      "65\n",
      "66\n",
      "67\n",
      "68\n",
      "69\n",
      "70\n",
      "71\n",
      "72\n",
      "73\n",
      "74\n",
      "75\n",
      "76\n",
      "77\n",
      "78\n",
      "79\n",
      "80\n",
      "81\n",
      "82\n",
      "83\n",
      "84\n",
      "85\n",
      "86\n",
      "87\n",
      "88\n",
      "89\n",
      "90\n",
      "91\n",
      "92\n",
      "93\n",
      "94\n",
      "95\n",
      "96\n",
      "97\n",
      "98\n",
      "99\n",
      "100\n"
     ]
    }
   ],
   "source": [
    "n = 0\n",
    "for i, arr in enumerate(all_data):\n",
    "    if not (arr == 0).all():\n",
    "        n += 1\n",
    "        print i\n",
    "        plot(xrange(cam.x), arr)\n",
    "print n\n",
    "show()"
   ]
  },
  {
   "cell_type": "code",
   "execution_count": 66,
   "metadata": {
    "collapsed": false
   },
   "outputs": [
    {
     "data": {
      "text/plain": [
       "2"
      ]
     },
     "execution_count": 66,
     "metadata": {},
     "output_type": "execute_result"
    }
   ],
   "source": [
    "all_datas = zeros(\n",
    "try:\n",
    "    data = idus.get_data(\"fullbin\")\n",
    "except IOError as e:\n",
    "    print e.message\n",
    "len(data)"
   ]
  },
  {
   "cell_type": "code",
   "execution_count": 26,
   "metadata": {
    "collapsed": false
   },
   "outputs": [
    {
     "data": {
      "text/plain": [
       "[<matplotlib.lines.Line2D at 0xa7f1da0>]"
      ]
     },
     "execution_count": 26,
     "metadata": {},
     "output_type": "execute_result"
    }
   ],
   "source": [
    "plot(xrange(len(data[0])), data[0])"
   ]
  },
  {
   "cell_type": "code",
   "execution_count": 131,
   "metadata": {
    "collapsed": false
   },
   "outputs": [
    {
     "name": "stdout",
     "output_type": "stream",
     "text": [
      "DRV_SUCCESS\n"
     ]
    }
   ],
   "source": [
    "cam_lib.AbortAcquisition()"
   ]
  },
  {
   "cell_type": "code",
   "execution_count": 26,
   "metadata": {
    "collapsed": true
   },
   "outputs": [],
   "source": [
    "show()"
   ]
  },
  {
   "cell_type": "code",
   "execution_count": 23,
   "metadata": {
    "collapsed": false
   },
   "outputs": [
    {
     "name": "stdout",
     "output_type": "stream",
     "text": [
      "Setting acquisition mode: DRV_SUCCESS\n",
      "Setting trigger mode: DRV_SUCCESS\n",
      "Setting read mode: DRV_SUCCESS\n",
      "Setting slit width: SHAMROCK_SUCCESS\n",
      "Setting exposure time: DRV_SUCCESS\n",
      "Setting accumulation cycle time: DRV_SUCCESS\n",
      "Setting flipper mirror:\n",
      "SHAMROCK_SUCCESS\n",
      "Setting wavelength:  SHAMROCK_SUCCESS\n",
      "Making sure Shamrock shutter is closed...\n",
      "SHAMROCK_SUCCESS\n",
      "Starting acquisition...\n",
      "DRV_SUCCESS\n",
      "Setting acquisition mode: DRV_SUCCESS\n",
      "Setting trigger mode: DRV_SUCCESS\n",
      "Setting read mode: DRV_SUCCESS\n",
      "Setting slit width: SHAMROCK_SUCCESS\n",
      "Setting exposure time: DRV_SUCCESS\n",
      "Setting accumulation cycle time: DRV_SUCCESS\n",
      "Setting flipper mirror:\n",
      "SHAMROCK_SUCCESS\n",
      "Setting wavelength:  SHAMROCK_SUCCESS\n",
      "Opening Shamrock shutter...\n",
      "SHAMROCK_SUCCESS\n",
      "Starting acquisition...\n",
      "DRV_SUCCESS\n",
      "Closing shutter...\n",
      "SHAMROCK_SUCCESS\n",
      "0.00371999992058\n",
      "0.00371999992058\n",
      "0.00371999992058\n"
     ]
    },
    {
     "data": {
      "text/plain": [
       "9556.0"
      ]
     },
     "execution_count": 23,
     "metadata": {},
     "output_type": "execute_result"
    }
   ],
   "source": [
    "meas_params = {\n",
    "    \"read_mode\": \"fullbin\",\n",
    "    \"exp_time\": 0.,\n",
    "    \"accum_cycle_time\": 0.,\n",
    "    \"trigger\": \"external start\",\n",
    "    \"wavelen\": 553.,\n",
    "    \"slit\": 10.0\n",
    "    }\n",
    "\n",
    "dark_current = newton.single_scan(dark=True, **meas_params)\n",
    "data = newton.single_scan(**meas_params)\n",
    "data -= dark_current\n",
    "exposure, accumulate, kinetic = cam_lib.GetAcquisitionTimings(float, float, float)\n",
    "print exposure\n",
    "print accumulate\n",
    "print kinetic\n",
    "to_plot = sum(data, 0)\n",
    "plot(xrange(len(to_plot)), to_plot)\n",
    "trapz(to_plot)"
   ]
  },
  {
   "cell_type": "code",
   "execution_count": 93,
   "metadata": {
    "collapsed": false
   },
   "outputs": [
    {
     "name": "stdout",
     "output_type": "stream",
     "text": [
      "DRV_SUCCESS\n",
      "DRV_SUCCESS\n"
     ]
    },
    {
     "data": {
      "text/plain": [
       "(0.003719999920576811, 0.003719999920576811, 0.18601000308990479)"
      ]
     },
     "execution_count": 93,
     "metadata": {},
     "output_type": "execute_result"
    }
   ],
   "source": [
    "newton.make_current();cam_lib.SetReadMode(0);cam_lib.SetExposureTime(0.);cam_lib.GetAcquisitionTimings(float, float, float)"
   ]
  },
  {
   "cell_type": "code",
   "execution_count": 64,
   "metadata": {
    "collapsed": false
   },
   "outputs": [
    {
     "name": "stdout",
     "output_type": "stream",
     "text": [
      "Setting acquisition mode: DRV_SUCCESS\n",
      "Setting trigger mode: DRV_SUCCESS\n",
      "Setting read mode: DRV_SUCCESS\n",
      "Setting shutter mode: DRV_SUCCESS\n",
      "Setting slit width: SHAMROCK_SUCCESS\n",
      "Setting exposure time: DRV_SUCCESS\n",
      "Setting accumulation cycle time: DRV_SUCCESS\n",
      "Setting number of accumulations: DRV_SUCCESS\n",
      "Setting flipper mirror:\n",
      "SHAMROCK_SUCCESS\n",
      "Setting wavelength:  SHAMROCK_SUCCESS\n",
      "Starting acquisition...\n",
      "DRV_SUCCESS\n",
      "Closing shutter...\n",
      "SHAMROCK_SUCCESS\n",
      "Setting acquisition mode: DRV_SUCCESS\n",
      "Setting trigger mode: DRV_SUCCESS\n",
      "Setting read mode: DRV_SUCCESS\n",
      "Setting shutter mode: DRV_SUCCESS\n",
      "Setting slit width: SHAMROCK_SUCCESS\n",
      "Setting exposure time: DRV_SUCCESS\n",
      "Setting accumulation cycle time: DRV_SUCCESS\n",
      "Setting number of accumulations: DRV_SUCCESS\n",
      "Setting flipper mirror:\n",
      "SHAMROCK_SUCCESS\n",
      "Setting wavelength:  SHAMROCK_SUCCESS\n",
      "Opening Shamrock shutter...\n",
      "SHAMROCK_SUCCESS\n",
      "Starting acquisition...\n",
      "DRV_SUCCESS\n",
      "Closing shutter...\n",
      "SHAMROCK_SUCCESS\n",
      "9.99999974738e-05\n",
      "0.00526240002364\n",
      "0.263119995594\n"
     ]
    },
    {
     "data": {
      "text/plain": [
       "29580.5"
      ]
     },
     "execution_count": 64,
     "metadata": {},
     "output_type": "execute_result"
    }
   ],
   "source": [
    "meas_params = {\n",
    "    \"read_mode\": \"fullbin\",\n",
    "    \"exp_time\": 0.0001,\n",
    "    \"accum_cycle_time\": 0.,\n",
    "    \"trigger\": \"external start\",\n",
    "    \"wavelen\": 543.,\n",
    "    \"openingtime\": 50,\n",
    "    \"closingtime\": 50,\n",
    "    \"slit\": 10.0\n",
    "    }\n",
    "\n",
    "dark_current = idus.accum(50, shutter_mode=\"closed\", dark=True, **meas_params)\n",
    "data = idus.accum(50, shutter_mode=\"auto\", **meas_params)\n",
    "data -= dark_current\n",
    "exposure, accumulate, kinetic = cam_lib.GetAcquisitionTimings(float, float, float)\n",
    "print exposure\n",
    "print accumulate\n",
    "print kinetic\n",
    "plot(xrange(len(data[0])), data[0]);show()\n",
    "trapz(data[0])"
   ]
  },
  {
   "cell_type": "code",
   "execution_count": 28,
   "metadata": {
    "collapsed": false
   },
   "outputs": [
    {
     "data": {
      "text/plain": [
       "1"
      ]
     },
     "execution_count": 28,
     "metadata": {},
     "output_type": "execute_result"
    }
   ],
   "source": [
    "spec_lib.ShamrockGetFlipperMirror(0, 2, int)"
   ]
  },
  {
   "cell_type": "code",
   "execution_count": 30,
   "metadata": {
    "collapsed": false
   },
   "outputs": [
    {
     "data": {
      "text/plain": [
       "-1"
      ]
     },
     "execution_count": 30,
     "metadata": {},
     "output_type": "execute_result"
    }
   ],
   "source": [
    "spec_lib.ShamrockGetShutter(0, int)"
   ]
  },
  {
   "cell_type": "code",
   "execution_count": 27,
   "metadata": {
    "collapsed": false
   },
   "outputs": [
    {
     "data": {
      "text/plain": [
       "543.030029296875"
      ]
     },
     "execution_count": 27,
     "metadata": {},
     "output_type": "execute_result"
    }
   ],
   "source": [
    "spec_lib.ShamrockGetWavelength(0, float)"
   ]
  },
  {
   "cell_type": "code",
   "execution_count": 15,
   "metadata": {
    "collapsed": false
   },
   "outputs": [],
   "source": [
    "plot("
   ]
  },
  {
   "cell_type": "code",
   "execution_count": 12,
   "metadata": {
    "collapsed": false
   },
   "outputs": [
    {
     "name": "stdout",
     "output_type": "stream",
     "text": [
      "Setting acquisition mode: DRV_SUCCESS\n",
      "Setting trigger mode: DRV_SUCCESS\n",
      "Setting read mode: DRV_SUCCESS\n",
      "Setting exposure time: DRV_SUCCESS\n",
      "Setting flipper mirror:\n",
      "SHAMROCK_SUCCESS\n",
      "Setting wavelength:  SHAMROCK_SUCCESS\n",
      "Opening Shamrock shutter...\n",
      "SHAMROCK_SUCCESS\n",
      "Starting acquisition...\n",
      "DRV_SUCCESS\n",
      "Closing shutter...\n",
      "SHAMROCK_SUCCESS\n"
     ]
    }
   ],
   "source": [
    "data = newton.single_scan(read_mode=\"image\", trigger=\"internal\", exp_time=0, wavelen=543)\n",
    "imshow(data[0], interpolation=\"none\", origin=\"lower\")\n",
    "data1 = \n",
    "data1 = data"
   ]
  },
  {
   "cell_type": "code",
   "execution_count": 97,
   "metadata": {
    "collapsed": false
   },
   "outputs": [
    {
     "name": "stdout",
     "output_type": "stream",
     "text": [
      "Setting acquisition mode: DRV_SUCCESS\n",
      "Setting trigger mode: DRV_SUCCESS\n",
      "Setting read mode: DRV_SUCCESS\n",
      "Setting shutter mode: DRV_SUCCESS\n",
      "Setting exposure time: DRV_SUCCESS\n",
      "Setting flipper mirror:\n",
      "SHAMROCK_SUCCESS\n",
      "Taking exposure for 0.01 s...\n",
      "DRV_SUCCESS\n"
     ]
    }
   ],
   "source": [
    "data = newton.single_scan(exp_time=0.01, read_mode=\"fullbin\", shutter_mode=\"closed\")\n",
    "plot(xrange(len(data)), data)\n",
    "show()"
   ]
  },
  {
   "cell_type": "code",
   "execution_count": 102,
   "metadata": {
    "collapsed": false
   },
   "outputs": [
    {
     "name": "stdout",
     "output_type": "stream",
     "text": [
      "Setting acquisition mode: DRV_SUCCESS\n",
      "Setting trigger mode: DRV_SUCCESS\n",
      "Setting read mode: DRV_SUCCESS\n",
      "Setting shutter mode: DRV_SUCCESS\n",
      "Setting exposure time: DRV_SUCCESS\n",
      "Setting flipper mirror:\n",
      "SHAMROCK_SUCCESS\n",
      "Taking exposure for 0.01 s...\n",
      "DRV_SUCCESS\n"
     ]
    }
   ],
   "source": [
    "data_postmirror = idus.single_scan(exp_time=.01, read_mode=\"fullbin\", shutter_mode=\"closed\")\n",
    "plot(xrange(len(data_postmirror)), data_postmirror)\n",
    "show()"
   ]
  },
  {
   "cell_type": "code",
   "execution_count": 108,
   "metadata": {
    "collapsed": false
   },
   "outputs": [
    {
     "name": "stdout",
     "output_type": "stream",
     "text": [
      "Setting current: DRV_SUCCESS\n",
      "Setting acquisition mode: DRV_SUCCESS\n",
      "Setting trigger mode: DRV_SUCCESS\n",
      "Setting read mode: DRV_SUCCESS\n",
      "Setting shutter mode: DRV_SUCCESS\n",
      "Setting exposure time: DRV_SUCCESS\n",
      "Setting flipper mirror:\n",
      "SHAMROCK_SUCCESS\n",
      "Taking exposure for 0.01 s...\n",
      "DRV_SUCCESS\n"
     ]
    }
   ],
   "source": [
    "data_premirror = idus.single_scan(exp_time=.01, read_mode=\"fullbin\", shutter_mode=\"closed\")\n",
    "plot(xrange(len(data_premirror)), data_premirror)\n",
    "show()"
   ]
  },
  {
   "cell_type": "code",
   "execution_count": 109,
   "metadata": {
    "collapsed": true
   },
   "outputs": [],
   "source": [
    "plot(xrange(512), data_premirror-data_postmirror);show()"
   ]
  },
  {
   "cell_type": "code",
   "execution_count": 69,
   "metadata": {
    "collapsed": false
   },
   "outputs": [
    {
     "name": "stdout",
     "output_type": "stream",
     "text": [
      "Setting current: DRV_SUCCESS\n",
      "DRV_SUCCESS\n"
     ]
    }
   ],
   "source": [
    "newton.make_current()\n",
    "cam_lib.CoolerOFF()"
   ]
  },
  {
   "cell_type": "code",
   "execution_count": 66,
   "metadata": {
    "collapsed": false
   },
   "outputs": [
    {
     "name": "stdout",
     "output_type": "stream",
     "text": [
      "DRV_SUCCESS\n"
     ]
    }
   ],
   "source": [
    "idus.make_current()\n",
    "cam_lib.CoolerOFF()"
   ]
  },
  {
   "cell_type": "code",
   "execution_count": 78,
   "metadata": {
    "collapsed": false
   },
   "outputs": [
    {
     "name": "stdout",
     "output_type": "stream",
     "text": [
      "Setting current: DRV_SUCCESS\n",
      "-40\n",
      "Setting current: DRV_SUCCESS\n",
      "-35\n"
     ]
    }
   ],
   "source": [
    "newton.make_current()\n",
    "newton_temp = c_int()\n",
    "cam_lib.lib.GetTemperature(byref(newton_temp))\n",
    "print newton_temp.value\n",
    "\n",
    "idus.make_current()\n",
    "idus_temp = c_int()\n",
    "cam_lib.lib.GetTemperature(byref(idus_temp))\n",
    "print idus_temp.value"
   ]
  },
  {
   "cell_type": "code",
   "execution_count": 158,
   "metadata": {
    "collapsed": false
   },
   "outputs": [
    {
     "name": "stdout",
     "output_type": "stream",
     "text": [
      "DRV_SUCCESS\n",
      "Setting current: DRV_SUCCESS\n",
      "DRV_SUCCESS\n"
     ]
    }
   ],
   "source": [
    "newton.make_current()\n",
    "cam_lib.ShutDown()\n",
    "idus.make_current()\n",
    "cam_lib.ShutDown()"
   ]
  },
  {
   "cell_type": "code",
   "execution_count": 159,
   "metadata": {
    "collapsed": false
   },
   "outputs": [
    {
     "name": "stdout",
     "output_type": "stream",
     "text": [
      "SHAMROCK_SUCCESS\n"
     ]
    }
   ],
   "source": [
    "spec_lib.ShamrockClose()"
   ]
  },
  {
   "cell_type": "code",
   "execution_count": 1,
   "metadata": {
    "collapsed": true
   },
   "outputs": [],
   "source": [
    "c_4 = -1.27493e-15\n",
    "c_3 = 4.11386e-12\n",
    "c_2 = -4.06198e-9\n",
    "c_1 = 0.000617665\n",
    "c_0 = 1.17964e-6\n",
    "\n",
    "def wavelen(steps):\n",
    "    return c_0 + c_1*steps + c_2*steps**2 + c_3*steps**3 + c_4*steps**4\n",
    "\n",
    "sine_corr_phase = .688298\n",
    "sine_corr_freq = 2000\n",
    "sine_corr_ampl = -0.338822"
   ]
  },
  {
   "cell_type": "code",
   "execution_count": 7,
   "metadata": {
    "collapsed": false
   },
   "outputs": [
    {
     "data": {
      "text/plain": [
       "0.061731046207000005"
      ]
     },
     "execution_count": 7,
     "metadata": {},
     "output_type": "execute_result"
    }
   ],
   "source": [
    "wavelen(100)"
   ]
  },
  {
   "cell_type": "code",
   "execution_count": 30,
   "metadata": {
    "collapsed": false
   },
   "outputs": [
    {
     "data": {
      "text/plain": [
       "543.0400390625"
      ]
     },
     "execution_count": 30,
     "metadata": {},
     "output_type": "execute_result"
    }
   ],
   "source": [
    "spec_lib.ShamrockGetWavelength(0, float)"
   ]
  },
  {
   "cell_type": "code",
   "execution_count": 29,
   "metadata": {
    "collapsed": false
   },
   "outputs": [
    {
     "name": "stdout",
     "output_type": "stream",
     "text": [
      "SHAMROCK_SUCCESS\n"
     ]
    }
   ],
   "source": [
    "spec_lib.ShamrockSetWavelength(0, float(543))"
   ]
  },
  {
   "cell_type": "code",
   "execution_count": 31,
   "metadata": {
    "collapsed": false
   },
   "outputs": [
    {
     "data": {
      "text/plain": [
       "int"
      ]
     },
     "execution_count": 31,
     "metadata": {},
     "output_type": "execute_result"
    }
   ],
   "source": [
    "int"
   ]
  },
  {
   "cell_type": "code",
   "execution_count": null,
   "metadata": {
    "collapsed": true
   },
   "outputs": [],
   "source": []
  }
 ],
 "metadata": {
  "kernelspec": {
   "display_name": "Python 2",
   "language": "python",
   "name": "python2"
  },
  "language_info": {
   "codemirror_mode": {
    "name": "ipython",
    "version": 2
   },
   "file_extension": ".py",
   "mimetype": "text/x-python",
   "name": "python",
   "nbconvert_exporter": "python",
   "pygments_lexer": "ipython2",
   "version": "2.7.9"
  }
 },
 "nbformat": 4,
 "nbformat_minor": 0
}
